{
 "cells": [
  {
   "cell_type": "code",
   "execution_count": 9,
   "metadata": {},
   "outputs": [],
   "source": [
    "from keras.models import load_model\n",
    "enc_model = load_model('encoder_model.keras')\n",
    "dec_model = load_model('decoder_model.keras')"
   ]
  },
  {
   "cell_type": "code",
   "execution_count": 17,
   "metadata": {},
   "outputs": [],
   "source": [
    "import pickle\n",
    "\n",
    "inv_vocab = pickle.load(open(\"vocabulary.pkl\", \"rb\"))\n",
    "vocab = {w:v for v, w in inv_vocab.items()}\n",
    "keyword_list = pickle.load(open(\"keyword.pkl\", \"rb\"))\n",
    "question = pickle.load(open(\"question.pkl\", \"rb\"))"
   ]
  },
  {
   "cell_type": "code",
   "execution_count": 11,
   "metadata": {},
   "outputs": [],
   "source": [
    "import numpy as np\n",
    "from laonlp import word_tokenize\n",
    "import re\n",
    "from keras.preprocessing.sequence import pad_sequences"
   ]
  },
  {
   "cell_type": "code",
   "execution_count": 12,
   "metadata": {},
   "outputs": [],
   "source": [
    "def remove_special_character(text):\n",
    "    return re.sub(r'[^0-9a-zA-Zກຂຄງຈສຊຍດຕຖທນບປຜຝພຟມຢລຫຼຣວຫອຮໜໝໆຽະາ ິ ີ ຶ ື ໂ ໍເແ ຸ ູຳໄໃ ັ ົ ່ ້ ໌+]', '', text)\n",
    "\n",
    "def remove_spaces(text):\n",
    "    \n",
    "    return text.replace(\" \", \"\")"
   ]
  },
  {
   "cell_type": "code",
   "execution_count": 13,
   "metadata": {},
   "outputs": [],
   "source": [
    "def clean_text(txt):\n",
    "    txt = re.sub(r\"a\", \"A\", txt)\n",
    "    txt = re.sub(r\"b\", \"B\", txt)\n",
    "    txt = re.sub(r\"b+\", \"B+\", txt)\n",
    "    txt = re.sub(r\"c+\", \"C+\", txt)\n",
    "    txt = re.sub(r\"c\", \"C\", txt)\n",
    "    txt = re.sub(r\"d+\", \"D+\", txt)\n",
    "    txt = re.sub(r\"d\", \"D\", txt)\n",
    "    txt = re.sub(r\"f\", \"F\", txt)\n",
    "    txt = re.sub(r\"ai\", \"AI\", txt)\n",
    "    txt = re.sub(r\"ນານາ\", \"ນາໆ\", txt)\n",
    "    txt = re.sub(r\"ພາຍຫລັງ\", \"ພາຍຫຼັງ\", txt)\n",
    "    txt = re.sub(r\"ຫົວຫນ້າ\", \"ຫົວໜ້າ\", txt)\n",
    "    txt = re.sub(r\"ຫລັກສູດ\", \"ຫຼັກສູດ\", txt)\n",
    "    return txt"
   ]
  },
  {
   "cell_type": "code",
   "execution_count": 18,
   "metadata": {},
   "outputs": [],
   "source": [
    "def decode_sequence(input_seq):\n",
    "    for sentence in question:\n",
    "        if np.array_equal(input_seq, [sentence]):\n",
    "            states_value = enc_model.predict(input_seq)\n",
    "\n",
    "            target_seq = np.zeros((1,1))\n",
    "            target_seq[0,0] = vocab['<SOS>']\n",
    "\n",
    "            stop_condition = False\n",
    "            decoded_sentence = ''\n",
    "            while not stop_condition:\n",
    "                output_tokens, h, c = dec_model.predict([target_seq] + states_value)\n",
    "                sampled_token_index = np.argmax(output_tokens[0, -1, :])\n",
    "                sampled_word = inv_vocab[sampled_token_index]\n",
    "                decoded_sentence += '' + sampled_word\n",
    "\n",
    "                if(sampled_word == '<EOS>' or len(word_tokenize(decoded_sentence)) > 100):\n",
    "                    stop_condition = True\n",
    "\n",
    "                target_seq = np.zeros((1,1))\n",
    "                target_seq[0,0] = sampled_token_index\n",
    "                \n",
    "                states_value = [h,c]\n",
    "\n",
    "            return decoded_sentence\n",
    "    return \"ຂໍອະໄພ, ບໍ່ສາມາດຕອບຄຳຖາມນີ້ໄດ້\"  "
   ]
  },
  {
   "cell_type": "code",
   "execution_count": 19,
   "metadata": {},
   "outputs": [
    {
     "name": "stdout",
     "output_type": "stream",
     "text": [
      "1/1 [==============================] - 0s 273ms/step\n",
      "1/1 [==============================] - 0s 246ms/step\n",
      "1/1 [==============================] - 0s 16ms/step\n",
      "1/1 [==============================] - 0s 16ms/step\n",
      "1/1 [==============================] - 0s 15ms/step\n",
      "1/1 [==============================] - 0s 16ms/step\n",
      "1/1 [==============================] - 0s 16ms/step\n",
      "1/1 [==============================] - 0s 15ms/step\n",
      "1/1 [==============================] - 0s 15ms/step\n",
      "1/1 [==============================] - 0s 16ms/step\n",
      "1/1 [==============================] - 0s 16ms/step\n",
      "1/1 [==============================] - 0s 17ms/step\n",
      "1/1 [==============================] - 0s 20ms/step\n",
      "1/1 [==============================] - 0s 20ms/step\n",
      "1/1 [==============================] - 0s 17ms/step\n",
      "1/1 [==============================] - 0s 18ms/step\n",
      "You: ເກຣດaຕ້ອງມີຄະແນນເທົ່າໃດ\n",
      "Bot: ເກຣດ A ຕ້ອງມີຄະແນນຕັ້ງແຕ່ 91 ຄະແນນຂຶ້ນໄປ\n"
     ]
    }
   ],
   "source": [
    "#TEST\n",
    "input_text = \"ເກຣດaຕ້ອງມີຄະແນນເທົ່າໃດ\"\n",
    "input_seq = clean_text(input_text)\n",
    "input_seq = remove_special_character(input_seq)\n",
    "input_seq = remove_spaces(input_seq)\n",
    "txt = []\n",
    "lst = []\n",
    "input_seq = word_tokenize(input_seq)\n",
    "words = []\n",
    "for word in input_seq:\n",
    "    if word in keyword_list:\n",
    "        words.append(word)\n",
    "for x in words:\n",
    "    try:\n",
    "        lst.append(vocab[x])\n",
    "    except:\n",
    "        lst.append(vocab['<OUT>'])\n",
    "    \n",
    "txt.append(lst)\n",
    "\n",
    "input_padded_seq = pad_sequences(txt, 15, padding='post', truncating='post')\n",
    "response = decode_sequence(input_padded_seq)\n",
    "response = response.replace('<EOS>', '')\n",
    "print(f\"You: {input_text}\")\n",
    "print(f\"Bot: {response}\")"
   ]
  },
  {
   "cell_type": "code",
   "execution_count": 16,
   "metadata": {},
   "outputs": [
    {
     "name": "stdout",
     "output_type": "stream",
     "text": [
      "You: ເກຣດAຕ້ອງມີຄະແນນເທົ່າໃດ / [[107 262   0   0   0   0   0   0   0   0   0   0   0   0   0]]\n",
      "Bot: ຂໍອະໄພ, ບໍ່ສາມາດຕອບຄຳຖາມນີ້ໄດ້\n",
      "You: ເກຣດB+ຕ້ອງມີຄະແນນເທົ່າໃດ / [[118 262   0   0   0   0   0   0   0   0   0   0   0   0   0]]\n",
      "Bot: ຂໍອະໄພ, ບໍ່ສາມາດຕອບຄຳຖາມນີ້ໄດ້\n"
     ]
    }
   ],
   "source": [
    "while True:\n",
    "    input_text = input(\"You: \")\n",
    "    if input_text == 'exit':\n",
    "        break\n",
    "    input_seq = remove_special_character(input_text)\n",
    "    input_seq = remove_spaces(input_seq)\n",
    "    txt = []\n",
    "    lst = []\n",
    "    input_seq = word_tokenize(input_seq)\n",
    "    words = [word for word in input_seq if word in keyword_list]\n",
    "            \n",
    "    for x in words:\n",
    "        try:\n",
    "            lst.append(vocab[x])\n",
    "        except:\n",
    "            lst.append(vocab['<OUT>'])\n",
    "    \n",
    "    txt.append(lst)\n",
    "    \n",
    "    input_padded_seq = pad_sequences(txt, 15, padding='post', truncating='post')\n",
    "    response = decode_sequence(input_padded_seq)\n",
    "    print(f\"You: {input_text} / {input_padded_seq}\")\n",
    "    print(f\"Bot: {response}\")"
   ]
  },
  {
   "cell_type": "code",
   "execution_count": 8,
   "metadata": {},
   "outputs": [
    {
     "data": {
      "text/plain": [
       "96"
      ]
     },
     "execution_count": 8,
     "metadata": {},
     "output_type": "execute_result"
    }
   ],
   "source": [
    "len(keyword_list)"
   ]
  },
  {
   "cell_type": "code",
   "execution_count": null,
   "metadata": {},
   "outputs": [],
   "source": []
  }
 ],
 "metadata": {
  "kernelspec": {
   "display_name": "Python 3",
   "language": "python",
   "name": "python3"
  },
  "language_info": {
   "codemirror_mode": {
    "name": "ipython",
    "version": 3
   },
   "file_extension": ".py",
   "mimetype": "text/x-python",
   "name": "python",
   "nbconvert_exporter": "python",
   "pygments_lexer": "ipython3",
   "version": "3.10.9"
  }
 },
 "nbformat": 4,
 "nbformat_minor": 2
}
